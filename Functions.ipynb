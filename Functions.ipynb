{
  "nbformat": 4,
  "nbformat_minor": 0,
  "metadata": {
    "colab": {
      "provenance": []
    },
    "kernelspec": {
      "name": "python3",
      "display_name": "Python 3"
    },
    "language_info": {
      "name": "python"
    }
  },
  "cells": [
    {
      "cell_type": "markdown",
      "source": [
        "# 1. What is the difference between a function and a method in Python?\n",
        "\n",
        "In Python, the terms \"function\" and \"method\" are often used, but they have distinct meanings:\n",
        "\n",
        "**Function**:\n",
        "\n",
        "A function is a block of reusable code that performs a specific task.\n",
        "\n",
        "It can be defined using the def keyword and can exist independently.\n",
        "\n",
        "A function can be called by its name and does not depend on any object.\n",
        "\n",
        "**Method**:\n",
        "\n",
        ".A method is a function that is associated with an object, typically an instance of a class.\n",
        ".Methods are defined within a class and are called using the object or class name.\n",
        ".The first argument of a method is usually self, which refers to the instance of the class.\n"
      ],
      "metadata": {
        "id": "GRX-Xitp-20K"
      }
    },
    {
      "cell_type": "markdown",
      "source": [
        "# 2. Explain the concept of function arguments and parameters in Python.\n",
        "\n",
        "In Python, parameters and arguments are terms related to functions:\n",
        "\n",
        "Parameters-\n",
        "\n",
        ".Parameters are the variables listed in the function definition.\n",
        ".They act as placeholders for values that a function expects when it is called.\n",
        "\n",
        "Arguments-\n",
        "\n",
        ".Arguments are the actual values passed to the function when it is called."
      ],
      "metadata": {
        "id": "5lRyx6aP-bue"
      }
    },
    {
      "cell_type": "markdown",
      "source": [
        "# 3.What are the different ways to define and call a function in Python?\n",
        "\n",
        "1. Regular Function Definition and Call Definition:\n",
        "\n",
        "A function is defined using the def keyword.\n",
        "\n",
        "2. Function with Default Parameters.\n",
        "\n",
        "A function can have default parameter values.\n",
        "\n",
        "3. Function with Positional and Keyword Arguments.\n",
        "\n",
        "Positional Arguments\n",
        "\n",
        "Values are assigned in order.\n",
        "\n",
        "4. Lambda Functions (Anonymous Functions)\n",
        "\n",
        "A small, one-line function using lambda."
      ],
      "metadata": {
        "id": "Nu9jysNi-N-c"
      }
    },
    {
      "cell_type": "markdown",
      "source": [
        "#4. What is the purpose of the `return` statement in a Python function?\n",
        "\n",
        "The return statement in Python is used to send a value (or multiple values) from a function back to the caller. It marks the end of function execution and specifies the output of the function.\n",
        "\n",
        "\n",
        "The return statement ends function execution.\n",
        "\n",
        "1. It sends a value (or multiple values) back to the caller.\n",
        "\n",
        "2. If return is omitted, Python returns None by default.\n",
        "\n",
        "3. It is used in recursion and higher-order functions."
      ],
      "metadata": {
        "id": "MpDCbtw5CwKa"
      }
    },
    {
      "cell_type": "markdown",
      "source": [
        "#5. What are iterators in Python and how do they differ from iterables?\n",
        "\n",
        "An iterable is any object that can be looped over (e.g., in a for loop).\n",
        "It contains data that can be accessed sequentially.\n",
        "\n",
        "Examples of Iterables:\n",
        "\n",
        "Lists: [1, 2, 3]\n",
        "\n",
        "Tuples: (4, 5, 6)\n",
        "\n",
        "Strings: \"hello\"\n",
        "\n",
        "Dictionaries: {\"a\": 1, \"b\": 2}\n",
        "\n",
        "Sets: {7, 8, 9}\n",
        "\n",
        "Checking if an Object is Iterable\n",
        "An iterable must have the __iter__() method\n",
        "\n",
        "\n",
        "2. What is an Iterator?\n",
        "\n",
        "An iterator is an object that produces values one at a time, instead of storing them all in memory.\n",
        "\n",
        "Key Characteristics of Iterators:\n",
        "\n",
        "They implement __iter__() (to return the iterator itself).\n",
        "\n",
        "They implement __next__() (to return the next item).\n",
        "\n",
        "They do not store all elements; they generate them on demand."
      ],
      "metadata": {
        "id": "H15s2lVeDdxy"
      }
    },
    {
      "cell_type": "markdown",
      "source": [
        "#6. Explain the concept of generators in Python and how they are defined.\n",
        "\n",
        "1. What is a Generator?\n",
        "\n",
        "A generator is a special type of iterator that allows you to iterate over a sequence of values lazily (one at a time), without storing all values in memory.\n",
        "\n",
        "It is defined using a function with the yield keyword instead of return.\n",
        "Each time yield is called, the function pauses and retains its state, resuming from where it left off when called again.\n",
        "\n",
        "2. How to Define a Generator?\n",
        "\n",
        "Generators are defined using functions and the yield keyword.\n"
      ],
      "metadata": {
        "id": "73cidB4KEsid"
      }
    },
    {
      "cell_type": "markdown",
      "source": [
        "# 7. What are the advantages of using generators over regular functions?\n",
        "\n",
        "1. Memory Efficiency (Lazy Evaluation)\n",
        "\n",
        "Generators produce values one at a time, instead of storing them all in memory like regular functions that return lists or other collections.\n",
        "\n",
        "Example: Regular Function (Consumes More Memory)\n",
        "\n",
        "2. Faster Execution (No Need to Store Data)\n",
        "\n",
        "Since generators don’t create and store entire lists, they are faster than regular functions in many cases.\n",
        "\n",
        "Example: Regular Function (Slower due to full list creation)\n",
        "\n",
        "3.  Ability to Generate Infinite Sequences\n",
        "\n",
        " Regular functions cannot generate infinite sequences because they would run out of memory.\n",
        "\n",
        " Generators can create infinite sequences efficiently.\n",
        "\n",
        "Example: Infinite Fibonacci Generator\n"
      ],
      "metadata": {
        "id": "fglV1vTDHS53"
      }
    },
    {
      "cell_type": "markdown",
      "source": [
        "#8. What is a lambda function in Python and when is it typically used?\n",
        "\n",
        "Lambda Function in Python\n",
        "\n",
        "A lambda function (also called an anonymous function) is a small, one-line function that does not require a name (def). It is defined using the lambda keyword.\n",
        "\n",
        "1. Syntax of Lambda Functions\n",
        "\n",
        "No def or function name required.\n",
        "\n",
        "Can take any number of arguments, but only one expression.\n",
        "\n",
        "The result of the expression is automatically returned.\n",
        "\n",
        "2. When to Use Lambda Functions?\n",
        "\n",
        "Lambda functions are typically used in short, throwaway situations where defining a full function is unnecessary.\n",
        "\n",
        "1. Using lambda with map()\n",
        "\n",
        " map() applies a function to each element of an iterable.\n",
        "\n",
        "2.  lambda with filter()\n",
        "\n",
        "filter() selects elements based on a condition.\n",
        "\n",
        "3. Using lambda with sorted()\n",
        "\n",
        "Custom sorting using a lambda function as the key parameter.\n",
        "\n",
        "\n",
        "\n",
        "\n"
      ],
      "metadata": {
        "id": "VmWrKLLjI4Z6"
      }
    },
    {
      "cell_type": "markdown",
      "source": [
        "# 9. Explain the purpose and usage of the `map()` function in Python.\n",
        "\n",
        "The map() function in Python is used to apply a function to every element of an iterable (e.g., list, tuple) and return a new iterator with the transformed values.\n",
        "\n",
        "1. Syntax of map()\n",
        "\n",
        "map(function, iterable)\n",
        "\n",
        "\n",
        "**function**: The function to apply to each element.\n",
        "\n",
        "**iterable**: The sequence (list, tuple, etc.) whose elements will be processed.\n",
        "\n",
        "Returns a map object (an iterator), which can be converted into a list, tuple, etc.\n",
        "\n",
        "2. Example: Using map() with a Regular Function\n",
        "\n",
        "def square(x):\n",
        "    return x ** 2\n",
        "\n",
        "numbers = [1, 2, 3, 4]\n",
        "squared_numbers = map(square, numbers)\n",
        "\n",
        "print(list(squared_numbers))  # Output: [1, 4, 9, 16]\n",
        "\n",
        "\n",
        "\n"
      ],
      "metadata": {
        "id": "YwsM_EbJMHiX"
      }
    },
    {
      "cell_type": "markdown",
      "source": [
        "# 10. What is the difference between `map()`, `reduce()`, and `filter()` functions in Python?\n",
        "\n",
        "map(), filter(), and reduce() are higher-order functions in Python that operate on iterables (lists, tuples, etc.). Each serves a different purpose:\n",
        "\n",
        "**Function**:\tmap()  filter()\t reduce()\n",
        "\n",
        "**Purpose**:\n",
        "\n",
        "map() - Applies a function to each element in an iterable\n",
        "\n",
        "filter() - Selects elements that meet a condition\n",
        "\n",
        "reduce()\t- Reduces an iterable to a single value\n",
        "\n",
        "**Returns**:  \n",
        "\n",
        "map() - A transformed iterable (map object)\n",
        "\n",
        "filter() - A filtered iterable (filter object)\n",
        "\n",
        "reduce() - A single result\n"
      ],
      "metadata": {
        "id": "0l4mzrUkOEfm"
      }
    },
    {
      "cell_type": "markdown",
      "source": [
        "# 11. write the internal mechanism for sum operation using  reduce function on this given  list:[47,11,42,13]\n",
        "\n",
        "from functools import reduce\n",
        "\n",
        "# List of numbers\n",
        "numbers = [47, 11, 42, 13]\n",
        "\n",
        "# Using reduce() to sum all elements\n",
        "result = reduce(lambda x, y: x + y, numbers)\n",
        "\n",
        "print(\"Sum of list elements:\", result)\n",
        "\n"
      ],
      "metadata": {
        "id": "IokL7bx_24q-"
      }
    },
    {
      "cell_type": "code",
      "source": [
        "# 1. Write a Python function that takes a list of numbers as input and returns the sum of all even numbers in the list.\n",
        "\n",
        "\n",
        "def sum_even_numbers(numbers):\n",
        "    even_sum = 0\n",
        "    for num in numbers:\n",
        "        if num % 2 == 0:\n",
        "            even_sum += num\n",
        "    return even_sum\n"
      ],
      "metadata": {
        "id": "0X7_bK11gsgQ"
      },
      "execution_count": 6,
      "outputs": []
    },
    {
      "cell_type": "code",
      "source": [
        "# 2. Create a Python function that accepts a string and returns the reverse of that string.\n",
        "\n",
        "def reverse_string(input_string):\n",
        "    return input_string[::-1]"
      ],
      "metadata": {
        "id": "1SkZTuXTg58e"
      },
      "execution_count": 7,
      "outputs": []
    },
    {
      "cell_type": "code",
      "source": [
        "# 3. Implement a Python function that takes a list of integers and returns a new list containing the squares of each number.\n",
        "\n",
        "def square_numbers(numbers):\n",
        "    squared_numbers = [num ** 2 for num in numbers]\n",
        "    return squared_numbers"
      ],
      "metadata": {
        "id": "Dci9PlDNs-Hm"
      },
      "execution_count": 8,
      "outputs": []
    },
    {
      "cell_type": "code",
      "source": [
        "# 4. Write a Python function that checks if a given number is prime or not from 1 to 200.\n",
        "\n",
        "\n",
        "def is_prime(n):\n",
        "    \"\"\"Check if a number is prime.\"\"\"\n",
        "    if n < 2:\n",
        "        return False  # 0 and 1 are not prime\n",
        "    for i in range(2, int(n ** 0.5) + 1):  # Check divisibility up to sqrt(n)\n",
        "        if n % i == 0:\n",
        "            return False\n",
        "    return True\n",
        "\n",
        "# Checking prime numbers from 1 to 200\n",
        "prime_numbers = [n for n in range(1, 201) if is_prime(n)]\n",
        "print(prime_numbers)\n"
      ],
      "metadata": {
        "id": "hTHHx_5JwVta"
      },
      "execution_count": null,
      "outputs": []
    },
    {
      "cell_type": "code",
      "source": [
        "# 5. Create an iterator class in Python that generates the Fibonacci sequence up to a specified number of terms.\n",
        "\n",
        "class FibonacciIterator:\n",
        "    def __init__(self, n_terms):\n",
        "        \"\"\"Initialize the iterator with the number of terms.\"\"\"\n",
        "        self.n_terms = n_terms  # Total terms to generate\n",
        "        self.a, self.b = 0, 1   # First two Fibonacci numbers\n",
        "        self.count = 0          # Counter to track iterations\n",
        "\n",
        "    def __iter__(self):\n",
        "        \"\"\"Returns the iterator object.\"\"\"\n",
        "        return self\n",
        "\n",
        "    def __next__(self):\n",
        "        \"\"\"Generates the next Fibonacci number.\"\"\"\n",
        "        if self.count >= self.n_terms:\n",
        "            raise StopIteration  # Stop when the limit is reached\n",
        "\n",
        "        fib_number = self.a  # Get the current Fibonacci number\n",
        "        self.a, self.b = self.b, self.a + self.b  # Move to the next Fibonacci numbers\n",
        "        self.count += 1  # Increase counter\n",
        "        return fib_number\n",
        "\n",
        "# Example usage:\n",
        "fib_iterator = FibonacciIterator(10)  # Generate first 10 Fibonacci numbers\n",
        "for num in fib_iterator:\n",
        "    print(num, end=\" \")\n"
      ],
      "metadata": {
        "id": "9WN0kp76wvlX"
      },
      "execution_count": null,
      "outputs": []
    },
    {
      "cell_type": "code",
      "source": [
        "# 6. Write a generator function in Python that yields the powers of 2 up to a given exponent.\n",
        "\n",
        "\n",
        "def powers_of_2(max_exponent):\n",
        "    \"\"\"Generator that yields powers of 2 up to 2^max_exponent.\"\"\"\n",
        "    for exponent in range(max_exponent + 1):\n",
        "        yield 2 ** exponent  # Yield 2 raised to the power of exponent\n",
        "\n",
        "# Example usage:\n",
        "for power in powers_of_2(5):  # Generates 2^0 to 2^5\n",
        "    print(power, end=\" \")\n"
      ],
      "metadata": {
        "id": "CweUjfUVxG4k"
      },
      "execution_count": null,
      "outputs": []
    },
    {
      "cell_type": "code",
      "source": [
        "# 7. Implement a generator function that reads a file line by line and yields each line as a string.\n",
        "\n",
        "def read_file_line_by_line(file_path):\n",
        "    \"\"\"Generator that reads a file line by line.\"\"\"\n",
        "    with open(file_path, 'r') as file:\n",
        "        for line in file:\n",
        "            yield line.strip()"
      ],
      "metadata": {
        "id": "eOy05AFtyMWj"
      },
      "execution_count": null,
      "outputs": []
    },
    {
      "cell_type": "code",
      "source": [
        "# 8. Use a lambda function in Python to sort a list of tuples based on the second element of each tuple.\n",
        "\n",
        "data = [(1, 5), (3, 2), (2, 8), (5, 1)]\n",
        "sorted_data = sorted(data, key=lambda x: x[1])\n",
        "print(sorted_data)"
      ],
      "metadata": {
        "id": "AT6X71B5yRyp"
      },
      "execution_count": null,
      "outputs": []
    },
    {
      "cell_type": "code",
      "source": [
        "# 9. Write a Python program that uses `map()` to convert a list of temperatures from Celsius to Fahrenheit.\n",
        "\n",
        "def celsius_to_fahrenheit(celsius):\n",
        "    return (celsius * 9/5) + 32\n",
        "\n",
        "# List of temperatures in Celsius\n",
        "celsius_temperatures = [0, 10, 20, 30, 40, 100]\n",
        "\n",
        "# Convert to Fahrenheit using map()\n",
        "fahrenheit_temperatures = list(map(celsius_to_fahrenheit, celsius_temperatures))\n",
        "\n",
        "# Print the results\n",
        "print(\"Celsius:\", celsius_temperatures)\n",
        "print(\"Fahrenheit:\", fahrenheit_temperatures)\n"
      ],
      "metadata": {
        "id": "cF7p6fiXyZaK"
      },
      "execution_count": null,
      "outputs": []
    },
    {
      "cell_type": "code",
      "source": [
        "# 10. Create a Python program that uses `filter()` to remove all the vowels from a given string.\n",
        "\n",
        "def is_not_vowel(char):\n",
        "    \"\"\"Returns True if char is not a vowel.\"\"\"\n",
        "    return char.lower() not in 'aeiou'\n",
        "\n",
        "def remove_vowels(text):\n",
        "    \"\"\"Removes vowels from the given string.\"\"\"\n",
        "    return ''.join(filter(is_not_vowel, text))\n",
        "\n",
        "# Example usage\n",
        "input_string = \"Hello, World!\"\n",
        "output_string = remove_vowels(input_string)\n",
        "\n",
        "print(\"Original String:\", input_string)\n",
        "print(\"String without Vowels:\", output_string)\n"
      ],
      "metadata": {
        "id": "4FrX2gMBygnK"
      },
      "execution_count": null,
      "outputs": []
    },
    {
      "cell_type": "code",
      "source": [
        "# 11) Imagine an accounting routine used in a book shop. It works on a list with sublists, which look like this:\n",
        "\n",
        "#Write a Python program, which returns a list with 2-tuples. Each tuple consists of the order number and the product of the price per item and the quantity. The product should be increased by 10,- € if the value of the order is smaller than 100,00 €.\n",
        "\n",
        "#Write a Python program using lambda and map.\n",
        "\n",
        "orders = [\n",
        "    [34587, \"Learning Python, Mark Lutz\", 4, 40.95],\n",
        "    [98762, \"Programming Python, Mark Lutz\", 5, 56.80],\n",
        "    [77226, \"Head First Python, Paul Barry\", 3, 32.95],\n",
        "    [88112, \"Einführung in Python3, Bernd Klein\", 3, 24.99]\n",
        "]\n",
        "\n",
        "# Lambda function to calculate the total price and apply the 10€ rule\n",
        "calculate_total = lambda order: (order[0], order[2] * order[3] if order[2] * order[3] >= 100 else order[2] * order[3] + 10)\n",
        "\n",
        "# Using map to apply the lambda function to each order\n",
        "result = list(map(calculate_total, orders))\n",
        "\n",
        "print(result)"
      ],
      "metadata": {
        "id": "ioAZfLkozdOm"
      },
      "execution_count": null,
      "outputs": []
    },
    {
      "cell_type": "code",
      "source": [],
      "metadata": {
        "id": "nPyx7x1p2p_U"
      },
      "execution_count": null,
      "outputs": []
    }
  ]
}